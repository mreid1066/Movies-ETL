{
 "cells": [
  {
   "cell_type": "code",
   "execution_count": 1,
   "id": "b48f572d",
   "metadata": {},
   "outputs": [],
   "source": [
    "# Functions can have more than one parameter\n",
    "def make_quesadilla(protein, topping):\n",
    "    quesadilla = f\"Here is a {protein} quesadilla with {topping}\"\n",
    "    print(quesadilla)"
   ]
  },
  {
   "cell_type": "code",
   "execution_count": 2,
   "id": "44351a99",
   "metadata": {},
   "outputs": [
    {
     "name": "stdout",
     "output_type": "stream",
     "text": [
      "Here is a beef quesadilla with guacamole\n",
      "Here is a chicken quesadilla with salsa\n"
     ]
    }
   ],
   "source": [
    "# Supply the arguments (values) when calling the function\n",
    "make_quesadilla(\"beef\", \"guacamole\")\n",
    "make_quesadilla(\"chicken\", \"salsa\")"
   ]
  },
  {
   "cell_type": "code",
   "execution_count": 3,
   "id": "f75c2229",
   "metadata": {},
   "outputs": [
    {
     "name": "stdout",
     "output_type": "stream",
     "text": [
      "Here is a sour cream quesadilla with beef\n"
     ]
    }
   ],
   "source": [
    "# @NOTE: Order is important when supplying arguments!\n",
    "make_quesadilla(\"sour cream\", \"beef\")\n"
   ]
  },
  {
   "cell_type": "code",
   "execution_count": 4,
   "id": "fbed2912",
   "metadata": {},
   "outputs": [
    {
     "ename": "TypeError",
     "evalue": "make_quesadilla() missing 1 required positional argument: 'topping'",
     "output_type": "error",
     "traceback": [
      "\u001b[1;31m---------------------------------------------------------------------------\u001b[0m",
      "\u001b[1;31mTypeError\u001b[0m                                 Traceback (most recent call last)",
      "\u001b[1;32m<ipython-input-4-8ac7f9eca688>\u001b[0m in \u001b[0;36m<module>\u001b[1;34m\u001b[0m\n\u001b[1;32m----> 1\u001b[1;33m \u001b[0mmake_quesadilla\u001b[0m\u001b[1;33m(\u001b[0m\u001b[1;34m\"chicken\"\u001b[0m\u001b[1;33m)\u001b[0m\u001b[1;33m\u001b[0m\u001b[1;33m\u001b[0m\u001b[0m\n\u001b[0m",
      "\u001b[1;31mTypeError\u001b[0m: make_quesadilla() missing 1 required positional argument: 'topping'"
     ]
    }
   ],
   "source": [
    "make_quesadilla(\"chicken\")"
   ]
  },
  {
   "cell_type": "code",
   "execution_count": null,
   "id": "f7dca372",
   "metadata": {},
   "outputs": [],
   "source": [
    "# We can also specify default values for parameters\n",
    "def make_quesadilla(protein, topping=\"sour cream\"):\n",
    "    quesadilla = f\"Here is a {protein} quesadilla with {topping}\"\n",
    "    print(quesadilla)\n"
   ]
  },
  {
   "cell_type": "code",
   "execution_count": null,
   "id": "7c5725f7",
   "metadata": {},
   "outputs": [],
   "source": [
    "make_quesadilla(\"chicken\")"
   ]
  },
  {
   "cell_type": "code",
   "execution_count": null,
   "id": "fa65367a",
   "metadata": {},
   "outputs": [],
   "source": []
  }
 ],
 "metadata": {
  "kernelspec": {
   "display_name": "PythonData",
   "language": "python",
   "name": "pythondata"
  },
  "language_info": {
   "codemirror_mode": {
    "name": "ipython",
    "version": 3
   },
   "file_extension": ".py",
   "mimetype": "text/x-python",
   "name": "python",
   "nbconvert_exporter": "python",
   "pygments_lexer": "ipython3",
   "version": "3.7.10"
  }
 },
 "nbformat": 4,
 "nbformat_minor": 5
}
